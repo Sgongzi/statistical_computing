{
 "cells": [
  {
   "cell_type": "code",
   "execution_count": null,
   "metadata": {},
   "outputs": [],
   "source": [
    "#chi-square distrubution"
   ]
  },
  {
   "cell_type": "markdown",
   "metadata": {},
   "source": [
    "二项\n",
    "Rice分布\n",
    "Beta分布\n",
    "\n",
    "gamma分布\n",
    "玻尔兹曼分布\n",
    "dirichlet分布"
   ]
  }
 ],
 "metadata": {
  "language_info": {
   "name": "python"
  }
 },
 "nbformat": 4,
 "nbformat_minor": 2
}
